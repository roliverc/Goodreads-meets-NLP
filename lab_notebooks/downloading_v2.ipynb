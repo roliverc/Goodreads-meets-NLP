{
 "cells": [
  {
   "cell_type": "code",
   "execution_count": null,
   "metadata": {},
   "outputs": [],
   "source": [
    "%conda install -c conda-forge gdown"
   ]
  },
  {
   "cell_type": "code",
   "execution_count": 1,
   "metadata": {},
   "outputs": [],
   "source": [
    "import pandas as pd\n",
    "import gdown\n",
    "import os"
   ]
  },
  {
   "cell_type": "markdown",
   "metadata": {},
   "source": [
    "Alvaro Viejo (100451677) <br>\n",
    "Rodrigo Oliver (100451788) <br>\n",
    "Héctor Tienda (100432519)\n",
    "\n",
    "# Downloading data for the project"
   ]
  },
  {
   "cell_type": "code",
   "execution_count": 2,
   "metadata": {},
   "outputs": [],
   "source": [
    "DIR = os.getcwd()\n",
    "OUT_DIR = os.path.join(DIR, \"data\")"
   ]
  },
  {
   "cell_type": "markdown",
   "metadata": {},
   "source": [
    "Select which datasets to download. (URLs taken from [the data's Github repo](https://github.com/MengtingWan/goodreads/blob/master/gdrive_id.csv))."
   ]
  },
  {
   "cell_type": "code",
   "execution_count": 3,
   "metadata": {},
   "outputs": [],
   "source": [
    "review_data = {\n",
    "    \"goodreads_reviews_children.json.gz\": \"1908GDMdrhDN7sTaI_FelSHxbwcNM1EzR\",\n",
    "    \"goodreads_reviews_comics_graphic.json.gz\": \"1V4MLeoEiPQdocCbUHjR_7L9ZmxTufPFe\",\n",
    "    \"goodreads_reviews_fantasy_paranormal.json.gz\": \"1THnnmE4XSCvMkGOsqapQr2cJI5amKA6X\",\n",
    "    \"goodreads_reviews_history_biography.json.gz\": \"1lDkTzM6zpYU-HGkVAQgsw0dBzik-Zde9\",\n",
    "    \"goodreads_reviews_mystery_thriller_crime.json.gz\": \"1ONpyuv0vrtd6iUEp0-zzkKqwpm3njEqi\",\n",
    "    \"goodreads_reviews_poetry.json.gz\": \"1FVD3LxJXRc5GrKm97LehLgVGbRfF9TyO\",\n",
    "    \"goodreads_reviews_romance.json.gz\": \"1NpFsDQKBj_lrTzSASfyKbmkSykzN88wE\",\n",
    "    \"goodreads_reviews_young_adult.json.gz\": \"1M5iqCZ8a7rZRtsmY5KQ5rYnP9S0bQJVo\",\n",
    "}\n",
    "\n",
    "spoilers_data = {\n",
    "    \"goodreads_reviews_spoiler.json.gz\": \"196W2kDoZXRPjzbTjM6uvTidn6aTpsFnS\",\n",
    "    # \"goodreads_reviews_spoiler_raw.json.gz\": \"1NYV4F1WGJg6QbV0rOSXi6Y1gFLwic94a\",\n",
    "}"
   ]
  },
  {
   "cell_type": "markdown",
   "metadata": {},
   "source": [
    "First create a function to download the links and download the data"
   ]
  },
  {
   "cell_type": "code",
   "execution_count": 4,
   "metadata": {},
   "outputs": [],
   "source": [
    "from typing import Dict, Optional\n",
    "\n",
    "\n",
    "def download_batch(\n",
    "    name_url_map: Dict[str, str],\n",
    "    out_dir: Optional[str] = None,\n",
    "    output=None,\n",
    "    quiet=False,\n",
    "):\n",
    "    if out_dir:\n",
    "        if not os.path.exists(out_dir): os.mkdir(out_dir)\n",
    "        os.chdir(out_dir)\n",
    "    elif os.getcwd() != OUT_DIR:\n",
    "        if not os.path.exists(OUT_DIR): os.mkdir(OUT_DIR)\n",
    "        os.chdir(OUT_DIR)\n",
    "\n",
    "    _download_batch(name_url_map, output=output, quiet=quiet)\n",
    "\n",
    "\n",
    "def _download_batch(name_url_map: Dict[str, str], output=None, quiet=False):\n",
    "    for url_id in name_url_map.values():\n",
    "        url = \"https://drive.google.com/uc?id=\" + url_id\n",
    "        gdown.download(url, output=output, quiet=quiet)\n"
   ]
  },
  {
   "cell_type": "code",
   "execution_count": 5,
   "metadata": {},
   "outputs": [
    {
     "name": "stderr",
     "output_type": "stream",
     "text": [
      "Downloading...\n",
      "From (uriginal): https://drive.google.com/uc?id=1THnnmE4XSCvMkGOsqapQr2cJI5amKA6X\n",
      "From (redirected): https://drive.google.com/uc?id=1THnnmE4XSCvMkGOsqapQr2cJI5amKA6X&confirm=t&uuid=b8c30b38-0a67-4467-bf32-505229c22cf4\n",
      "To: /store/yoquec/todo/Machine Learning Applications/project_data_download/data/goodreads_reviews_fantasy_paranormal.json.gz\n",
      "100%|██████████| 1.26G/1.26G [01:56<00:00, 10.8MB/s]\n",
      "Downloading...\n",
      "From (uriginal): https://drive.google.com/uc?id=1lDkTzM6zpYU-HGkVAQgsw0dBzik-Zde9\n",
      "From (redirected): https://drive.google.com/uc?id=1lDkTzM6zpYU-HGkVAQgsw0dBzik-Zde9&confirm=t&uuid=50b4ba33-226d-498a-84d6-5e6cb38927cd\n",
      "To: /store/yoquec/todo/Machine Learning Applications/project_data_download/data/goodreads_reviews_history_biography.json.gz\n",
      "100%|██████████| 754M/754M [01:09<00:00, 10.8MB/s] \n",
      "Downloading...\n",
      "From (uriginal): https://drive.google.com/uc?id=1ONpyuv0vrtd6iUEp0-zzkKqwpm3njEqi\n",
      "From (redirected): https://drive.google.com/uc?id=1ONpyuv0vrtd6iUEp0-zzkKqwpm3njEqi&confirm=t&uuid=c9052426-3cee-41e7-9abb-7ee6a654db88\n",
      "To: /store/yoquec/todo/Machine Learning Applications/project_data_download/data/goodreads_reviews_mystery_thriller_crime.json.gz\n",
      "100%|██████████| 610M/610M [00:55<00:00, 11.1MB/s] \n",
      "Downloading...\n",
      "From (uriginal): https://drive.google.com/uc?id=1NpFsDQKBj_lrTzSASfyKbmkSykzN88wE\n",
      "From (redirected): https://drive.google.com/uc?id=1NpFsDQKBj_lrTzSASfyKbmkSykzN88wE&confirm=t&uuid=0fd689f5-25fc-49b3-80ff-6259c13b12e6\n",
      "To: /store/yoquec/todo/Machine Learning Applications/project_data_download/data/goodreads_reviews_romance.json.gz\n",
      " 55%|█████▌    | 722M/1.30G [01:08<00:55, 10.5MB/s] \n",
      "Downloading...\n",
      "From (uriginal): https://drive.google.com/uc?id=1M5iqCZ8a7rZRtsmY5KQ5rYnP9S0bQJVo\n",
      "From (redirected): https://drive.google.com/uc?id=1M5iqCZ8a7rZRtsmY5KQ5rYnP9S0bQJVo&confirm=t&uuid=309af264-e7fa-454f-9e64-597f90041b6d\n",
      "To: /store/yoquec/todo/Machine Learning Applications/project_data_download/data/goodreads_reviews_young_adult.json.gz\n",
      "100%|██████████| 899M/899M [01:24<00:00, 10.7MB/s] \n",
      "Downloading...\n",
      "From (uriginal): https://drive.google.com/uc?id=196W2kDoZXRPjzbTjM6uvTidn6aTpsFnS\n",
      "From (redirected): https://drive.google.com/uc?id=196W2kDoZXRPjzbTjM6uvTidn6aTpsFnS&confirm=t&uuid=5356999e-a649-465f-9ea9-4e3302a97c0a\n",
      "To: /store/yoquec/todo/Machine Learning Applications/project_data_download/data/goodreads_reviews_spoiler.json.gz\n",
      "100%|██████████| 620M/620M [00:56<00:00, 10.9MB/s] \n",
      "Downloading...\n",
      "From (uriginal): https://drive.google.com/uc?id=1NYV4F1WGJg6QbV0rOSXi6Y1gFLwic94a\n",
      "From (redirected): https://drive.google.com/uc?id=1NYV4F1WGJg6QbV0rOSXi6Y1gFLwic94a&confirm=t&uuid=24897a04-8244-4f07-b3b7-2466df3cbf1d\n",
      "To: /store/yoquec/todo/Machine Learning Applications/project_data_download/data/goodreads_reviews_spoiler_raw.json.gz\n",
      "100%|██████████| 661M/661M [01:00<00:00, 10.9MB/s] \n"
     ]
    }
   ],
   "source": [
    "download_batch(review_data)\n",
    "download_batch(spoilers_data)"
   ]
  }
 ],
 "metadata": {
  "kernelspec": {
   "display_name": "Python 3 (ipykernel)",
   "language": "python",
   "name": "python3"
  },
  "language_info": {
   "codemirror_mode": {
    "name": "ipython",
    "version": 3
   },
   "file_extension": ".py",
   "mimetype": "text/x-python",
   "name": "python",
   "nbconvert_exporter": "python",
   "pygments_lexer": "ipython3",
   "version": "3.11.3"
  },
  "vscode": {
   "interpreter": {
    "hash": "cc637b6166db88c95a077f9f5c772f895eb27f8a1940df8b63eaffaadf545b40"
   }
  }
 },
 "nbformat": 4,
 "nbformat_minor": 4
}
