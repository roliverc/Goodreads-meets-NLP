{
 "cells": [
  {
   "attachments": {},
   "cell_type": "markdown",
   "metadata": {},
   "source": [
    "Alvaro Viejo (100451677), Rodrigo Oliver (100451788), Héctor Tienda (100432519)\n",
    "\n",
    "# Creating a subset of the dataset for exploration purposes"
   ]
  },
  {
   "cell_type": "code",
   "execution_count": 1,
   "metadata": {},
   "outputs": [],
   "source": [
    "import pandas as pd\n",
    "import os"
   ]
  },
  {
   "cell_type": "code",
   "execution_count": 4,
   "metadata": {},
   "outputs": [
    {
     "data": {
      "text/html": [
       "<div>\n",
       "<style scoped>\n",
       "    .dataframe tbody tr th:only-of-type {\n",
       "        vertical-align: middle;\n",
       "    }\n",
       "\n",
       "    .dataframe tbody tr th {\n",
       "        vertical-align: top;\n",
       "    }\n",
       "\n",
       "    .dataframe thead th {\n",
       "        text-align: right;\n",
       "    }\n",
       "</style>\n",
       "<table border=\"1\" class=\"dataframe\">\n",
       "  <thead>\n",
       "    <tr style=\"text-align: right;\">\n",
       "      <th></th>\n",
       "      <th>review_text</th>\n",
       "      <th>rating</th>\n",
       "      <th>book_genre</th>\n",
       "    </tr>\n",
       "  </thead>\n",
       "  <tbody>\n",
       "    <tr>\n",
       "      <th>0</th>\n",
       "      <td>This is a special book. It started slow for ab...</td>\n",
       "      <td>5</td>\n",
       "      <td>fantasy</td>\n",
       "    </tr>\n",
       "    <tr>\n",
       "      <th>1</th>\n",
       "      <td>A fun, fast paced science fiction thriller. I ...</td>\n",
       "      <td>3</td>\n",
       "      <td>thriller</td>\n",
       "    </tr>\n",
       "    <tr>\n",
       "      <th>2</th>\n",
       "      <td>A fun fast paced book that sucks you in right ...</td>\n",
       "      <td>4</td>\n",
       "      <td>fantasy</td>\n",
       "    </tr>\n",
       "    <tr>\n",
       "      <th>3</th>\n",
       "      <td>This book has a great premise, and is full of ...</td>\n",
       "      <td>3</td>\n",
       "      <td>fantasy</td>\n",
       "    </tr>\n",
       "    <tr>\n",
       "      <th>4</th>\n",
       "      <td>A fun, dark, slightly comical western about tw...</td>\n",
       "      <td>3</td>\n",
       "      <td>history</td>\n",
       "    </tr>\n",
       "  </tbody>\n",
       "</table>\n",
       "</div>"
      ],
      "text/plain": [
       "                                         review_text  rating book_genre\n",
       "0  This is a special book. It started slow for ab...       5    fantasy\n",
       "1  A fun, fast paced science fiction thriller. I ...       3   thriller\n",
       "2  A fun fast paced book that sucks you in right ...       4    fantasy\n",
       "3  This book has a great premise, and is full of ...       3    fantasy\n",
       "4  A fun, dark, slightly comical western about tw...       3    history"
      ]
     },
     "execution_count": 4,
     "metadata": {},
     "output_type": "execute_result"
    }
   ],
   "source": [
    "DATA_DIR = \"data\"\n",
    "file_name = os.path.join(os.getcwd(), DATA_DIR, \"reviews_spoiler_full.csv\")\n",
    "\n",
    "# ignore the first column of the dataset\n",
    "with open(file_name) as csv:\n",
    "    ncols = len(csv.readline().split(','))\n",
    "\n",
    "reviews_spoiler_df = pd.read_csv(file_name, usecols=range(1, ncols))\n",
    "reviews_spoiler_df.head()"
   ]
  },
  {
   "attachments": {},
   "cell_type": "markdown",
   "metadata": {},
   "source": [
    "Create a version of the dataset with balanced classes"
   ]
  },
  {
   "cell_type": "code",
   "execution_count": 31,
   "metadata": {},
   "outputs": [
    {
     "data": {
      "text/html": [
       "<div>\n",
       "<style scoped>\n",
       "    .dataframe tbody tr th:only-of-type {\n",
       "        vertical-align: middle;\n",
       "    }\n",
       "\n",
       "    .dataframe tbody tr th {\n",
       "        vertical-align: top;\n",
       "    }\n",
       "\n",
       "    .dataframe thead th {\n",
       "        text-align: right;\n",
       "    }\n",
       "</style>\n",
       "<table border=\"1\" class=\"dataframe\">\n",
       "  <thead>\n",
       "    <tr style=\"text-align: right;\">\n",
       "      <th></th>\n",
       "      <th>review_text</th>\n",
       "      <th>rating</th>\n",
       "      <th>book_genre</th>\n",
       "    </tr>\n",
       "  </thead>\n",
       "  <tbody>\n",
       "    <tr>\n",
       "      <th>0</th>\n",
       "      <td>I originally gave this three stars, but it was...</td>\n",
       "      <td>4</td>\n",
       "      <td>children</td>\n",
       "    </tr>\n",
       "    <tr>\n",
       "      <th>1</th>\n",
       "      <td>they didnt actually quit, they just wrote lett...</td>\n",
       "      <td>4</td>\n",
       "      <td>children</td>\n",
       "    </tr>\n",
       "    <tr>\n",
       "      <th>2</th>\n",
       "      <td>This story follows a family consisting of a fa...</td>\n",
       "      <td>5</td>\n",
       "      <td>children</td>\n",
       "    </tr>\n",
       "    <tr>\n",
       "      <th>3</th>\n",
       "      <td>I don't remember reading this book in school, ...</td>\n",
       "      <td>4</td>\n",
       "      <td>children</td>\n",
       "    </tr>\n",
       "    <tr>\n",
       "      <th>4</th>\n",
       "      <td>Read for the 2016 YA/MG Book Battle. This book...</td>\n",
       "      <td>5</td>\n",
       "      <td>children</td>\n",
       "    </tr>\n",
       "  </tbody>\n",
       "</table>\n",
       "</div>"
      ],
      "text/plain": [
       "                                         review_text  rating book_genre\n",
       "0  I originally gave this three stars, but it was...       4   children\n",
       "1  they didnt actually quit, they just wrote lett...       4   children\n",
       "2  This story follows a family consisting of a fa...       5   children\n",
       "3  I don't remember reading this book in school, ...       4   children\n",
       "4  Read for the 2016 YA/MG Book Battle. This book...       5   children"
      ]
     },
     "execution_count": 31,
     "metadata": {},
     "output_type": "execute_result"
    }
   ],
   "source": [
    "reviews_bygenre = reviews_spoiler_df.groupby('book_genre')\n",
    "\n",
    "fewest_class = reviews_bygenre.count().min()\n",
    "\n",
    "# get a sample of equal size between all genres\n",
    "reduced_reviews_spoiler_df = reviews_bygenre.sample(fewest_class_n.values[0]).reset_index(drop=True)\n",
    "reduced_reviews_spoiler_df.head()"
   ]
  },
  {
   "cell_type": "code",
   "execution_count": 32,
   "metadata": {},
   "outputs": [],
   "source": [
    "# finally, store the reduced version of the file\n",
    "reduced_reviews_spoiler_df.to_csv(os.path.join(os.getcwd(), DATA_DIR, \"reviews_spoiler_reduced.csv\"))"
   ]
  }
 ],
 "metadata": {
  "kernelspec": {
   "display_name": "ML",
   "language": "python",
   "name": "python3"
  },
  "language_info": {
   "codemirror_mode": {
    "name": "ipython",
    "version": 3
   },
   "file_extension": ".py",
   "mimetype": "text/x-python",
   "name": "python",
   "nbconvert_exporter": "python",
   "pygments_lexer": "ipython3",
   "version": "3.11.3"
  },
  "orig_nbformat": 4
 },
 "nbformat": 4,
 "nbformat_minor": 2
}
