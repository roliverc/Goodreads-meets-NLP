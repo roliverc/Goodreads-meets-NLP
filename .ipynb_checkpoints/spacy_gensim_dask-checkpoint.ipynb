{
 "cells": [
  {
   "cell_type": "markdown",
   "metadata": {},
   "source": [
    "# Final Project: Machine Learning Applications\n",
    "## Bachelor in Data Science and Engineering\n",
    "\n",
    "Done by:\n",
    "\n",
    "* Alvaro Viejo Alonso (NIA: 100451677)\n",
    "* Rodrigo Oliver Coimbra (NIA: 100451788)\n",
    "* Héctor Tienda Cárdenas (NIA: 100)"
   ]
  },
  {
   "cell_type": "markdown",
   "metadata": {},
   "source": [
    "## 0. Introduction and explanation"
   ]
  },
  {
   "cell_type": "markdown",
   "metadata": {},
   "source": [
    "In this project we put in practice what was learned in the course of Machine Learning Applications on the area of Natural Language Processing (NLP). We will be analyzing a Goodreads book review dataset and we will be solving two learning tasks: regression (to predict the review score from the review text) and topic modelling (to predict the genre of the book that is being reviewed)."
   ]
  },
  {
   "cell_type": "markdown",
   "metadata": {},
   "source": [
    "## 1. Data loading and preprocessing pipeline\n",
    "\n",
    "### 1.1 Data loading"
   ]
  },
  {
   "cell_type": "markdown",
   "metadata": {},
   "source": [
    "We are loading the `reviews_spoiler_reduced.csv` dataset which consists of three columns: `review_text` (string), `rating` (integer) and `book_genre` (factor).\n",
    "\n",
    "We will be using `Dask` to apply the tokenization and lemmatization with spaCy of the dataset. This library parallelizes common Python libraries such as `Pandas` or `Numpy` and allows for better scalability, for more information check their [FAQ](https://docs.dask.org/en/stable/faq.html). According to `Dask`'s official webpage: \"Dask is used within the world’s largest banks, national labs, retailers, technology companies, and government agencies\"."
   ]
  },
  {
   "cell_type": "code",
   "execution_count": 1,
   "metadata": {
    "tags": []
   },
   "outputs": [],
   "source": [
    "%%time\n",
    "# !conda install -c conda-forge spacy\n",
    "# !conda install -c conda-forge cupy`\n",
    "# !python -m spacy download en_core_web_trf\n",
    "\n",
    "###### DATA STORAGE & MANIPULATION ######\n",
    "import pandas as pd\n",
    "import dask.dataframe as dd\n",
    "import numpy as np\n",
    "import csv\n",
    "\n",
    "###### DATA VISUALIZATION ######\n",
    "import matplotlib.pyplot as plt\n",
    "import seaborn as sns\n",
    "\n",
    "###### NLP ######\n",
    "import spacy\n",
    "import gensim\n",
    "\n",
    "###### OTHERS ######\n",
    "from tqdm.auto import tqdm\n",
    "\n",
    "# Create Pandas method to provide tqdm progress\n",
    "tqdm.pandas()"
   ]
  },
  {
   "cell_type": "code",
   "execution_count": 2,
   "metadata": {
    "tags": []
   },
   "outputs": [
    {
     "data": {
      "text/html": [
       "<div><strong>Dask DataFrame Structure:</strong></div>\n",
       "<div>\n",
       "<style scoped>\n",
       "    .dataframe tbody tr th:only-of-type {\n",
       "        vertical-align: middle;\n",
       "    }\n",
       "\n",
       "    .dataframe tbody tr th {\n",
       "        vertical-align: top;\n",
       "    }\n",
       "\n",
       "    .dataframe thead th {\n",
       "        text-align: right;\n",
       "    }\n",
       "</style>\n",
       "<table border=\"1\" class=\"dataframe\">\n",
       "  <thead>\n",
       "    <tr style=\"text-align: right;\">\n",
       "      <th></th>\n",
       "      <th>review_text</th>\n",
       "      <th>rating</th>\n",
       "      <th>book_genre</th>\n",
       "    </tr>\n",
       "    <tr>\n",
       "      <th>npartitions=1</th>\n",
       "      <th></th>\n",
       "      <th></th>\n",
       "      <th></th>\n",
       "    </tr>\n",
       "  </thead>\n",
       "  <tbody>\n",
       "    <tr>\n",
       "      <th></th>\n",
       "      <td>object</td>\n",
       "      <td>int64</td>\n",
       "      <td>object</td>\n",
       "    </tr>\n",
       "    <tr>\n",
       "      <th></th>\n",
       "      <td>...</td>\n",
       "      <td>...</td>\n",
       "      <td>...</td>\n",
       "    </tr>\n",
       "  </tbody>\n",
       "</table>\n",
       "</div>\n",
       "<div>Dask Name: read-csv, 1 graph layer</div>"
      ],
      "text/plain": [
       "Dask DataFrame Structure:\n",
       "              review_text rating book_genre\n",
       "npartitions=1                              \n",
       "                   object  int64     object\n",
       "                      ...    ...        ...\n",
       "Dask Name: read-csv, 1 graph layer"
      ]
     },
     "execution_count": 2,
     "metadata": {},
     "output_type": "execute_result"
    }
   ],
   "source": [
    "%%time\n",
    "# Load the sample dataset\n",
    "sample_dd = dd.read_csv(\"reviews_spoiler_reduced.csv\", encoding=\"utf-8\", usecols=lambda c: c != 'Unnamed: 0')\n",
    "sample_dd.persist()"
   ]
  },
  {
   "cell_type": "code",
   "execution_count": 3,
   "metadata": {
    "tags": []
   },
   "outputs": [
    {
     "data": {
      "text/html": [
       "<div>\n",
       "<style scoped>\n",
       "    .dataframe tbody tr th:only-of-type {\n",
       "        vertical-align: middle;\n",
       "    }\n",
       "\n",
       "    .dataframe tbody tr th {\n",
       "        vertical-align: top;\n",
       "    }\n",
       "\n",
       "    .dataframe thead th {\n",
       "        text-align: right;\n",
       "    }\n",
       "</style>\n",
       "<table border=\"1\" class=\"dataframe\">\n",
       "  <thead>\n",
       "    <tr style=\"text-align: right;\">\n",
       "      <th></th>\n",
       "      <th>review_text</th>\n",
       "      <th>rating</th>\n",
       "      <th>book_genre</th>\n",
       "    </tr>\n",
       "  </thead>\n",
       "  <tbody>\n",
       "    <tr>\n",
       "      <th>0</th>\n",
       "      <td>I originally gave this three stars, but it was...</td>\n",
       "      <td>4</td>\n",
       "      <td>children</td>\n",
       "    </tr>\n",
       "    <tr>\n",
       "      <th>1</th>\n",
       "      <td>they didnt actually quit, they just wrote lett...</td>\n",
       "      <td>4</td>\n",
       "      <td>children</td>\n",
       "    </tr>\n",
       "    <tr>\n",
       "      <th>2</th>\n",
       "      <td>This story follows a family consisting of a fa...</td>\n",
       "      <td>5</td>\n",
       "      <td>children</td>\n",
       "    </tr>\n",
       "    <tr>\n",
       "      <th>3</th>\n",
       "      <td>I don't remember reading this book in school, ...</td>\n",
       "      <td>4</td>\n",
       "      <td>children</td>\n",
       "    </tr>\n",
       "    <tr>\n",
       "      <th>4</th>\n",
       "      <td>Read for the 2016 YA/MG Book Battle. This book...</td>\n",
       "      <td>5</td>\n",
       "      <td>children</td>\n",
       "    </tr>\n",
       "  </tbody>\n",
       "</table>\n",
       "</div>"
      ],
      "text/plain": [
       "                                         review_text  rating book_genre\n",
       "0  I originally gave this three stars, but it was...       4   children\n",
       "1  they didnt actually quit, they just wrote lett...       4   children\n",
       "2  This story follows a family consisting of a fa...       5   children\n",
       "3  I don't remember reading this book in school, ...       4   children\n",
       "4  Read for the 2016 YA/MG Book Battle. This book...       5   children"
      ]
     },
     "execution_count": 3,
     "metadata": {},
     "output_type": "execute_result"
    }
   ],
   "source": [
    "# Print the sample dataset\n",
    "sample_dd.head()"
   ]
  },
  {
   "cell_type": "markdown",
   "metadata": {},
   "source": [
    "We load `spaCy`'s `en_core_web_trf` model which is optimized for GPU (CUDA) usage and it is larger and slower but its provide more accuracy. `spaCy` is a state-of-the-art open-source library for Natural Language Processing (NLP) that is held in high regard by practicioners all around the world.\n",
    "\n",
    "The spaCy library provides a trained model with several components that share the `tok2vec`component.\n",
    "\n"
   ]
  },
  {
   "attachments": {
    "image.png": {
     "image/png": "[encoded data removed]"
    }
   },
   "cell_type": "markdown",
   "metadata": {},
   "source": [
    "![image.png](attachment:image.png)"
   ]
  },
  {
   "cell_type": "markdown",
   "metadata": {},
   "source": [
    "The first `tok2vec` attribute corresponds is this case tou our `transformer`, and it will be responsible for tokenizing the book reviews. \n",
    "\n",
    "Then we have the `tagger`which assings the POS (part-of-speech) tags to each word, followed by the `parser`that is tasked with assigning dependency labels. These are very important for spaCy's internal mechanisms and this analysis is further extended by `attribute_ruler` which contains specific rules for each language.\n",
    "\n",
    "Finally we have the `lemmatizer` which draws from `attribute_ruler` to homogenize the text corpus by reducing the number of word variants (i.e. assigns base forms).\n",
    "\n",
    "The `ner` (Named Entity Recognizer) is devoted to detecting and labelling named entities that have a specific meaning such as `Tencent` (corporation), `John` (person), `spaniards` (group of people) or `UN` (organization)."
   ]
  },
  {
   "cell_type": "code",
   "execution_count": 4,
   "metadata": {
    "tags": []
   },
   "outputs": [],
   "source": [
    "%%time\n",
    "# Load the en_core_web_trf model\n",
    "nlp = spacy.load(\"en_core_web_trf\")"
   ]
  },
  {
   "cell_type": "code",
   "execution_count": 5,
   "metadata": {
    "tags": []
   },
   "outputs": [
    {
     "name": "stdout",
     "output_type": "stream",
     "text": [
      "['transformer', 'tagger', 'parser', 'attribute_ruler', 'lemmatizer', 'ner']\n"
     ]
    }
   ],
   "source": [
    "# Print spaCy's nlp pipe parts\n",
    "print(nlp.pipe_names)"
   ]
  },
  {
   "cell_type": "markdown",
   "metadata": {},
   "source": [
    "### 1.2 Preprocessing"
   ]
  },
  {
   "cell_type": "markdown",
   "metadata": {},
   "source": [
    "#### 1.2.1 Tokenization, homogenization, cleaning\n",
    "\n",
    "In this subsection we will be performing tokenization, homegenization and cleaning using the SpaCy Python library. The `preprocess_text` function is that with the tokenization and lemmatization of all the book reviews and the removel of any stopwords (very common words), punctuation marks and whitespaces. All words are also converted to lowercase for uniformity.\n",
    "\n",
    "SpaCy was used as it provides state-of-the-art tools in NLP and allows for a streamlined, yet powerful approach to data preprocessing."
   ]
  },
  {
   "cell_type": "code",
   "execution_count": 6,
   "metadata": {
    "tags": []
   },
   "outputs": [],
   "source": [
    "def preprocess_text(text, model):\n",
    "    \"\"\"\n",
    "    This function is tasked with tokenizing and lemmatizing the text while\n",
    "    also removing stopwords, punctuation and whitespaces.\n",
    "    It returns the remaining token as a string.\n",
    "    \"\"\"\n",
    "    doc = model(text)\n",
    "    tokens = [\n",
    "                token.lemma_.lower().strip() \\\n",
    "                    for token in doc \\\n",
    "                        if token.is_alpha \\\n",
    "                        and not token.is_stop \\\n",
    "                        and not token.is_punct \\\n",
    "                        and not token.is_space\n",
    "    ]\n",
    "    return tokens"
   ]
  },
  {
   "cell_type": "code",
   "execution_count": 8,
   "metadata": {
    "tags": []
   },
   "outputs": [
    {
     "name": "stdout",
     "output_type": "stream",
     "text": [
      "CPU times: user 8.47 s, sys: 2.28 s, total: 10.8 s\n",
      "Wall time: 10.3 s\n"
     ]
    }
   ],
   "source": [
    "%%time\n",
    "# Create a new column in the dataset to store the new, cleaned reviews\n",
    "# for this we will be using Dask's apply function that parallelizes this\n",
    "# process providing a boost in computation speed\n",
    "sample_dd[\"doc\"] = sample_dd[\"review_text\"].apply(lambda x: preprocess_text(x, nlp), meta=(\"text\", \"str\"))"
   ]
  },
  {
   "cell_type": "code",
   "execution_count": 10,
   "metadata": {
    "tags": []
   },
   "outputs": [
    {
     "name": "stdout",
     "output_type": "stream",
     "text": [
      "CPU times: user 23min 37s, sys: 14.4 s, total: 23min 51s\n",
      "Wall time: 4min 7s\n"
     ]
    },
    {
     "data": {
      "text/plain": [
       "['/home/leibniz/Documents/UC3M/Machine Learning Applications/Final Project/reviews_spoiler_reduced_tokenized-0.csv']"
      ]
     },
     "execution_count": 10,
     "metadata": {},
     "output_type": "execute_result"
    }
   ],
   "source": [
    "%%time\n",
    "# Save the tokenized and lemmatized dataset\n",
    "sample_dd.to_csv(\"reviews_spoiler_reduced_tokenized-*.csv\")"
   ]
  },
  {
   "cell_type": "code",
   "execution_count": 11,
   "metadata": {
    "tags": []
   },
   "outputs": [
    {
     "data": {
      "text/plain": [
       "0"
      ]
     },
     "execution_count": 11,
     "metadata": {},
     "output_type": "execute_result"
    }
   ],
   "source": [
    "import os\n",
    "os.system('notify-send \"Execution finished.\" \"Cell execution has finished.\"')"
   ]
  },
  {
   "cell_type": "code",
   "execution_count": 12,
   "metadata": {
    "tags": []
   },
   "outputs": [
    {
     "name": "stdout",
     "output_type": "stream",
     "text": [
      "CPU times: user 22min 28s, sys: 13.4 s, total: 22min 42s\n",
      "Wall time: 3min 54s\n"
     ]
    }
   ],
   "source": [
    "%%time\n",
    "# Obtain the Pandas Dataframe\n",
    "sample_df = sample_dd.compute()"
   ]
  },
  {
   "cell_type": "code",
   "execution_count": 14,
   "metadata": {
    "tags": []
   },
   "outputs": [
    {
     "data": {
      "text/html": [
       "<div>\n",
       "<style scoped>\n",
       "    .dataframe tbody tr th:only-of-type {\n",
       "        vertical-align: middle;\n",
       "    }\n",
       "\n",
       "    .dataframe tbody tr th {\n",
       "        vertical-align: top;\n",
       "    }\n",
       "\n",
       "    .dataframe thead th {\n",
       "        text-align: right;\n",
       "    }\n",
       "</style>\n",
       "<table border=\"1\" class=\"dataframe\">\n",
       "  <thead>\n",
       "    <tr style=\"text-align: right;\">\n",
       "      <th></th>\n",
       "      <th>review_text</th>\n",
       "      <th>rating</th>\n",
       "      <th>book_genre</th>\n",
       "      <th>doc</th>\n",
       "    </tr>\n",
       "  </thead>\n",
       "  <tbody>\n",
       "    <tr>\n",
       "      <th>0</th>\n",
       "      <td>I originally gave this three stars, but it was...</td>\n",
       "      <td>4</td>\n",
       "      <td>children</td>\n",
       "      <td>[originally, give, star, close, decide, miserl...</td>\n",
       "    </tr>\n",
       "    <tr>\n",
       "      <th>1</th>\n",
       "      <td>they didnt actually quit, they just wrote lett...</td>\n",
       "      <td>4</td>\n",
       "      <td>children</td>\n",
       "      <td>[nt, actually, quit, write, letter, complaint,...</td>\n",
       "    </tr>\n",
       "    <tr>\n",
       "      <th>2</th>\n",
       "      <td>This story follows a family consisting of a fa...</td>\n",
       "      <td>5</td>\n",
       "      <td>children</td>\n",
       "      <td>[story, follow, family, consist, father, mothe...</td>\n",
       "    </tr>\n",
       "    <tr>\n",
       "      <th>3</th>\n",
       "      <td>I don't remember reading this book in school, ...</td>\n",
       "      <td>4</td>\n",
       "      <td>children</td>\n",
       "      <td>[remember, read, book, school, decide, try, lo...</td>\n",
       "    </tr>\n",
       "    <tr>\n",
       "      <th>4</th>\n",
       "      <td>Read for the 2016 YA/MG Book Battle. This book...</td>\n",
       "      <td>5</td>\n",
       "      <td>children</td>\n",
       "      <td>[read, ya, mg, book, battle, book, simply, cha...</td>\n",
       "    </tr>\n",
       "    <tr>\n",
       "      <th>...</th>\n",
       "      <td>...</td>\n",
       "      <td>...</td>\n",
       "      <td>...</td>\n",
       "      <td>...</td>\n",
       "    </tr>\n",
       "    <tr>\n",
       "      <th>443</th>\n",
       "      <td>Seriously dunno what to think.. This was my re...</td>\n",
       "      <td>3</td>\n",
       "      <td>young_adult</td>\n",
       "      <td>[seriously, dunno, think, reaction, novel, con...</td>\n",
       "    </tr>\n",
       "    <tr>\n",
       "      <th>444</th>\n",
       "      <td>Possible trigger warnings: abuse*, teen pregna...</td>\n",
       "      <td>5</td>\n",
       "      <td>young_adult</td>\n",
       "      <td>[possible, trigger, warning, abuse, teen, preg...</td>\n",
       "    </tr>\n",
       "    <tr>\n",
       "      <th>445</th>\n",
       "      <td>I really loved this! \"To all the boys I've lov...</td>\n",
       "      <td>5</td>\n",
       "      <td>young_adult</td>\n",
       "      <td>[love, boy, love, unique, diverse, novel, wond...</td>\n",
       "    </tr>\n",
       "    <tr>\n",
       "      <th>446</th>\n",
       "      <td>I wanted to give this book three stars, and I ...</td>\n",
       "      <td>4</td>\n",
       "      <td>young_adult</td>\n",
       "      <td>[want, book, star, think, half, quarter, book,...</td>\n",
       "    </tr>\n",
       "    <tr>\n",
       "      <th>447</th>\n",
       "      <td>This review is also featured on my blog, the S...</td>\n",
       "      <td>3</td>\n",
       "      <td>young_adult</td>\n",
       "      <td>[review, feature, blog, snark, theater, star, ...</td>\n",
       "    </tr>\n",
       "  </tbody>\n",
       "</table>\n",
       "<p>448 rows × 4 columns</p>\n",
       "</div>"
      ],
      "text/plain": [
       "                                           review_text  rating   book_genre   \n",
       "0    I originally gave this three stars, but it was...       4     children  \\\n",
       "1    they didnt actually quit, they just wrote lett...       4     children   \n",
       "2    This story follows a family consisting of a fa...       5     children   \n",
       "3    I don't remember reading this book in school, ...       4     children   \n",
       "4    Read for the 2016 YA/MG Book Battle. This book...       5     children   \n",
       "..                                                 ...     ...          ...   \n",
       "443  Seriously dunno what to think.. This was my re...       3  young_adult   \n",
       "444  Possible trigger warnings: abuse*, teen pregna...       5  young_adult   \n",
       "445  I really loved this! \"To all the boys I've lov...       5  young_adult   \n",
       "446  I wanted to give this book three stars, and I ...       4  young_adult   \n",
       "447  This review is also featured on my blog, the S...       3  young_adult   \n",
       "\n",
       "                                                   doc  \n",
       "0    [originally, give, star, close, decide, miserl...  \n",
       "1    [nt, actually, quit, write, letter, complaint,...  \n",
       "2    [story, follow, family, consist, father, mothe...  \n",
       "3    [remember, read, book, school, decide, try, lo...  \n",
       "4    [read, ya, mg, book, battle, book, simply, cha...  \n",
       "..                                                 ...  \n",
       "443  [seriously, dunno, think, reaction, novel, con...  \n",
       "444  [possible, trigger, warning, abuse, teen, preg...  \n",
       "445  [love, boy, love, unique, diverse, novel, wond...  \n",
       "446  [want, book, star, think, half, quarter, book,...  \n",
       "447  [review, feature, blog, snark, theater, star, ...  \n",
       "\n",
       "[448 rows x 4 columns]"
      ]
     },
     "execution_count": 14,
     "metadata": {},
     "output_type": "execute_result"
    }
   ],
   "source": [
    "# Print the transformed Pandas dataframe\n",
    "sample_df"
   ]
  },
  {
   "cell_type": "markdown",
   "metadata": {},
   "source": [
    "## 2. Text vectorization"
   ]
  },
  {
   "cell_type": "markdown",
   "metadata": {},
   "source": [
    "In the text vectorization part we will be analyzing the following vectorization schemes:\n",
    "\n",
    "- Bag-of-Words vs. TF-IDF representation\n",
    "- Word2vec/FastText vs. Doc2Vec\n",
    "- Theme extraction and vector representation using LDA.\n",
    "\n",
    "In this part we will be using Gensim."
   ]
  },
  {
   "cell_type": "markdown",
   "metadata": {},
   "source": [
    "### 2.1 Gensim Corpus and N-grams detection"
   ]
  },
  {
   "cell_type": "markdown",
   "metadata": {},
   "source": [
    "#### 2.1.1 Gensim Corpus"
   ]
  },
  {
   "cell_type": "code",
   "execution_count": 16,
   "metadata": {
    "tags": []
   },
   "outputs": [
    {
     "name": "stdout",
     "output_type": "stream",
     "text": [
      "CPU times: user 75 µs, sys: 0 ns, total: 75 µs\n",
      "Wall time: 85.8 µs\n"
     ]
    }
   ],
   "source": [
    "%%time\n",
    "sample_corpus = sample_df[\"doc\"].tolist()\n",
    "\n",
    "# To avoid errors with Phraser\n",
    "#sample_corpus = [str(el) for el in sample_corpus]"
   ]
  },
  {
   "cell_type": "code",
   "execution_count": 17,
   "metadata": {
    "tags": []
   },
   "outputs": [
    {
     "name": "stdout",
     "output_type": "stream",
     "text": [
      "Number of documents in corpus: 448\n",
      "First review text: \n",
      " ['originally', 'give', 'star', 'close', 'decide', 'miserly', 'bump', 'kid', 'kid', 'mean', 'young', 'middling', 'teenager', 'maybe', 'advanced', 'pre', 'teen', 'like', 'read', 'scary', 'story', 'outer', 'limits', 'twilight', 'zone', 'kind', 'feel', 'apparently', 'mean', 'middle', 'grade', 'book', 'storytelling', 'style', 'like', 'element', 'bit', 'gruesome', 'thing', 'particular', 'detail', 'end', 'spoiler', 'tag', 'scare', 'point', 'threshold', 'scare', 'thing', 'kind', 'low', 'scared', 'see', 'blair', 'witch', 'project', 'assure', 'total', 'wimp', 'scare', 'thematically', 'friendship', 'conform', 'ideal', 'normalcy', 'perfection', 'temptation', 'try', 'change', 'people', 'feel', 'like', 'story', 'element', 'manipulate', 'maximum', 'deftness', 'handle', 'reasonably', 'like', 'visual', 'design', 'book', 'endpaper', 'pattern', 'creepy', 'bug', 'text', 'drawing', 'small', 'bug', 'appear', 'margin', 'thing', 'gross', 'see', 'come', 'wince', 'confirm', 'ew', 'soylent', 'green', 'people', 'cannibalism', 'look', 'metaphor', 'non', 'conformer', 'eat', 'bit', 'gratuitous', 'author', 'apparently', 'book', 'forthcoming', 'couple', 'year', 'willing', 'try']\n"
     ]
    }
   ],
   "source": [
    "print(f\"Number of documents in corpus: {len(sample_corpus)}\")\n",
    "print(f\"First review text: \\n {sample_corpus[0]}\")"
   ]
  },
  {
   "cell_type": "code",
   "execution_count": 18,
   "metadata": {
    "tags": []
   },
   "outputs": [
    {
     "data": {
      "text/plain": [
       "<Axes: ylabel='Count'>"
      ]
     },
     "execution_count": 18,
     "metadata": {},
     "output_type": "execute_result"
    },
    {
     "data": {
      "image/png": "[encoded data removed]",
      "text/plain": [
       "<Figure size 640x480 with 1 Axes>"
      ]
     },
     "metadata": {},
     "output_type": "display_data"
    }
   ],
   "source": [
    "sns.histplot(data=sample_corpus, x=[len(doc) for doc in sample_corpus])"
   ]
  },
  {
   "cell_type": "markdown",
   "metadata": {},
   "source": [
    "#### 2.1.2 N-grams"
   ]
  },
  {
   "cell_type": "code",
   "execution_count": 19,
   "metadata": {
    "tags": []
   },
   "outputs": [
    {
     "name": "stdout",
     "output_type": "stream",
     "text": [
      "CPU times: user 122 ms, sys: 2.01 ms, total: 124 ms\n",
      "Wall time: 123 ms\n"
     ]
    }
   ],
   "source": [
    "%%time\n",
    "phrase_model = gensim.models.phrases.Phrases(sample_corpus, min_count=2, threshold=30)\n",
    "sample_corpus = [el for el in phrase_model[sample_corpus]]\n",
    "\n",
    "sample_df[\"doc\"] = sample_corpus"
   ]
  },
  {
   "cell_type": "markdown",
   "metadata": {},
   "source": [
    "### 2.2 Gensim dictionary"
   ]
  },
  {
   "cell_type": "code",
   "execution_count": null,
   "metadata": {},
   "outputs": [],
   "source": []
  }
 ],
 "metadata": {
  "kernelspec": {
   "display_name": "Python 3 (ipykernel)",
   "language": "python",
   "name": "python3"
  },
  "language_info": {
   "codemirror_mode": {
    "name": "ipython",
    "version": 3
   },
   "file_extension": ".py",
   "mimetype": "text/x-python",
   "name": "python",
   "nbconvert_exporter": "python",
   "pygments_lexer": "ipython3",
   "version": "3.11.3"
  }
 },
 "nbformat": 4,
 "nbformat_minor": 4
}
